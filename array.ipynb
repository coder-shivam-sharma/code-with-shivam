{
 "cells": [
  {
   "cell_type": "code",
   "execution_count": 1,
   "id": "371ff64d-2c0f-47be-8982-54a314d00f2a",
   "metadata": {},
   "outputs": [],
   "source": [
    "import ctypes\n",
    "\n",
    "            "
   ]
  },
  {
   "cell_type": "code",
   "execution_count": 28,
   "id": "1ff5b3db-6b06-4a5d-8cd9-4271269d69b4",
   "metadata": {},
   "outputs": [],
   "source": [
    "class Meralist:\n",
    "    def __init__(self):\n",
    "        self.size=1\n",
    "        self.n=0\n",
    "        self.A=self._make_array(self.size)  #make a array of size = self.size and store in a variable\n",
    "\n",
    "    def _make_array(self,capacity):      # this function creates a C types array of size capacity \n",
    "        return (capacity*ctypes.py_object)()\n",
    "\n",
    "    def __len__(self):              # this will give us the size of the meralist\n",
    "        return self.n\n",
    "\n",
    "    def append(self,item):        # this will add up the new items in our array\n",
    "        if self.size == self.n:   # check if arrays is complete filled \n",
    "            # resize the array\n",
    "            self._resize(self.size *2)    # resizing array with the double size \n",
    "        #appending \n",
    "        self.A[self.n] = item              # assigning  the item value to the index placed inside the array \n",
    "        self.n = self.n + 1             # count that particular number which is inserted in the array in the total items of the array \n",
    "\n",
    "    def _resize(self,new_capacity):\n",
    "        B=self._make_array(new_capacity)       # make a array with double size \n",
    "        self.size = new_capacity              # now assigning the new array size to a array \n",
    "        # COPY over data in new array \n",
    "        for i in range(self.n):\n",
    "            B[i] = self.A[i]       # assigning all the items of A to new array B\n",
    "        #reassigning the arrays  B to A \n",
    "        self.A=B\n",
    "\n",
    "    def __str__(self):    #this magic function is used to print \n",
    "        # formate [1,2,3,4]\n",
    "        result=\"\"                  # this is the empty string which is used further as a empty container\n",
    "        for i in range(self.n):            # the for loop will pick one by one item from a raay and store in a string \n",
    "            result = result + str(self.A[i]) + \",\"   # here we use String concatenation concept\n",
    "        return \"[\" + result[:-1] +\"]\"            # this type of arrangement is only for getting desire formate  \n",
    "\n",
    "    def __getitem__(self,index):                # for access square brackets [] we use magic method name __getitem__\n",
    "        if index >=0 and index < self.n:         # this will be checked that the index value lies between 0 and total item of the array \n",
    "            return self.A[index]               # this will return our item which is placed at that index \n",
    "        if index <0 and index>=-(self.__len__()): # this is used for negative index value \n",
    "            if self.n > abs(index):\n",
    "                return self.A[self.n - abs(index)]      \n",
    "        else:\n",
    "            return \"<...INDEX ERROR...>\"        # if index is not lies in that range then we will get a message index error \n",
    "\n",
    "    def pop(self):               # pop function used to delete item using index value :   this is only function who show the value which is he deleted  \n",
    "        if self.n == 0:          # this is the condition to check list is empty or not \n",
    "            return \"Empty List\"\n",
    "        \n",
    "        print(self.A[self.n-1])   # this will return us deleted item name \n",
    "        self.n = self.n -1\n",
    "\n",
    "    def clear(self):              # this will remove all the items of the list ; logic : - i) make array size 1 and no of item is 0\n",
    "        self.n = 0            #assigning no. of item in array is 0\n",
    "        self.size = 1         # assigning the size of the array is 1 \n",
    "\n",
    "    def find(self,item):        # this function is used to find any item in a array and return it index value \n",
    "        for i in range(self.n):     \n",
    "            if self.A[i] == item:   # checking the given item exectly match in which item  \n",
    "                return i            # return the matched item index value \n",
    "        return \"<.....VALUE ERROR......>\"        # if item is not matched then show that message\n",
    "   \n",
    "    def insert(self,pos,item):    # this function is used to placed item at their desire placed \n",
    "        if self.size == self.n:     # checking the array is complete filled or not\n",
    "            self._resize(self.n*2)   # if filled then resize the array\n",
    "        if pos >= 0 and pos <= self.n:    # checking that position lies in the range or not \n",
    "            for i in range(self.n,pos,-1):\n",
    "                self.A[i] =self.A[i-1]        # now at there item will be assigned to the higher index value # in other words we jump items in the forward direction(increasing index value ) till the position does not come.\n",
    "            self.A[pos] = item    # put that item in that position which you mentioned(assing value at the indexed position)\n",
    "        else:\n",
    "            self.A[self.n] = item            # the index is out of range then item placed at the end of the list\n",
    "        self.n = self.n +1          # adjust the size of array by increase the the size due to new member(item )\n",
    "\n",
    "    def __delitem__(self,pos):        # this function is used to assign a del keyword\n",
    "        #delete                         # logic :- 1) find that number then you get its position\n",
    "        for i in range(pos,self.n -1):  # after getting index number then assign forwarded item to backward till that index number   \n",
    "            self.A[i] = self.A[i +1]\n",
    "        self.n = self.n -1        \n",
    "        \n",
    "    def extend(self,item):\n",
    "        if self.size == self.n:     # checking the array is complete filled or not\n",
    "            self._resize(self.n*2)   # if filled then resize the array\n",
    "        self.A[self.n] = item            # the index is out of range then item placed at the end of the list\n",
    "        self.n = self.n +1          # adjust the size of array by increase the the size due to new member(item )\n",
    "\n",
    "    def remove(self,item):        # this function is used to remove any item \n",
    "        a=self.find(item)               # logic :- 1) find that number then you get its position  \n",
    "        for i in range(a,self.n -1):    # after getting index number then assign forwarded item to backward till that index number \n",
    "            self.A[i] = self.A[i +1]    # another words jump the items backward \n",
    "        self.n = self.n -1        \n",
    "\n",
    "    \n",
    "\n",
    "\n",
    "        "
   ]
  },
  {
   "cell_type": "markdown",
   "id": "a51c728d-67b0-455d-8c98-aa329cdf6f25",
   "metadata": {},
   "source": []
  },
  {
   "cell_type": "code",
   "execution_count": 29,
   "id": "a89fe496-81b8-4a7a-b38a-e6dd7f54be14",
   "metadata": {},
   "outputs": [],
   "source": [
    "\n",
    "a=Meralist()"
   ]
  },
  {
   "cell_type": "code",
   "execution_count": 30,
   "id": "e340a772-c1ee-4bae-9ad1-03b330509a67",
   "metadata": {},
   "outputs": [],
   "source": [
    "a.append(10)\n",
    "a.append(20)\n",
    "a.append(\"hello\")"
   ]
  },
  {
   "cell_type": "raw",
   "id": "f35ff646-e39b-470d-bfda-48bc88996345",
   "metadata": {},
   "source": []
  },
  {
   "cell_type": "code",
   "execution_count": 31,
   "id": "65b265e1-e2ca-459a-be23-de1c86ade1e5",
   "metadata": {},
   "outputs": [
    {
     "name": "stdout",
     "output_type": "stream",
     "text": [
      "[10,20,hello]\n"
     ]
    }
   ],
   "source": [
    "print(a)"
   ]
  },
  {
   "cell_type": "code",
   "execution_count": 33,
   "id": "3929f12c-d4a2-400c-b736-87e15013fd74",
   "metadata": {},
   "outputs": [
    {
     "name": "stdout",
     "output_type": "stream",
     "text": [
      "good\n"
     ]
    }
   ],
   "source": [
    "a.pop()"
   ]
  },
  {
   "cell_type": "code",
   "execution_count": 58,
   "id": "d44e4d1b-b35d-4f5d-b655-435145ba6bad",
   "metadata": {},
   "outputs": [],
   "source": [
    "a.clear()"
   ]
  },
  {
   "cell_type": "code",
   "execution_count": 6,
   "id": "c872c59e-d537-450a-bf23-d546fe914e11",
   "metadata": {},
   "outputs": [
    {
     "data": {
      "text/plain": [
       "2"
      ]
     },
     "execution_count": 6,
     "metadata": {},
     "output_type": "execute_result"
    }
   ],
   "source": [
    "a.find(\"hello\")"
   ]
  },
  {
   "cell_type": "code",
   "execution_count": 44,
   "id": "43f082c4-1e41-4e6c-89dd-90589cecaf67",
   "metadata": {},
   "outputs": [],
   "source": [
    "a.insert(100,\"good\")"
   ]
  },
  {
   "cell_type": "code",
   "execution_count": 51,
   "id": "99b75cd7-e62a-4910-9346-fb1b050b35ba",
   "metadata": {},
   "outputs": [],
   "source": [
    "del a[1]\n",
    "       "
   ]
  },
  {
   "cell_type": "code",
   "execution_count": 19,
   "id": "22830647-5063-4e75-afcf-c286526c39fe",
   "metadata": {},
   "outputs": [
    {
     "data": {
      "text/plain": [
       "3"
      ]
     },
     "execution_count": 19,
     "metadata": {},
     "output_type": "execute_result"
    }
   ],
   "source": [
    "\n",
    "len(a)"
   ]
  },
  {
   "cell_type": "code",
   "execution_count": 80,
   "id": "7acfa0a4-cc9a-496c-aac4-f3b04cba137c",
   "metadata": {},
   "outputs": [
    {
     "ename": "TypeError",
     "evalue": "Meralist.__getitem__() missing 4 required positional arguments: 'sign1', 'end', 'sign2', and 'gap'",
     "output_type": "error",
     "traceback": [
      "\u001b[1;31m---------------------------------------------------------------------------\u001b[0m",
      "\u001b[1;31mTypeError\u001b[0m                                 Traceback (most recent call last)",
      "Cell \u001b[1;32mIn[80], line 1\u001b[0m\n\u001b[1;32m----> 1\u001b[0m \u001b[43ma\u001b[49m\u001b[43m[\u001b[49m\u001b[38;5;241;43m1\u001b[39;49m\u001b[43m,\u001b[49m\u001b[43m:\u001b[49m\u001b[43m,\u001b[49m\u001b[38;5;241;43m5\u001b[39;49m\u001b[43m,\u001b[49m\u001b[43m:\u001b[49m\u001b[43m,\u001b[49m\u001b[38;5;241;43m1\u001b[39;49m\u001b[43m]\u001b[49m\n",
      "\u001b[1;31mTypeError\u001b[0m: Meralist.__getitem__() missing 4 required positional arguments: 'sign1', 'end', 'sign2', and 'gap'"
     ]
    }
   ],
   "source": [
    "a[1,:,5,:,1]"
   ]
  },
  {
   "cell_type": "code",
   "execution_count": 6,
   "id": "de05dcd6-c092-4838-ab54-a70247586343",
   "metadata": {},
   "outputs": [],
   "source": [
    "a.extend(\"goa\")"
   ]
  },
  {
   "cell_type": "code",
   "execution_count": 12,
   "id": "63bb089c-6d94-48fa-89d6-7bc3c0bb7450",
   "metadata": {},
   "outputs": [],
   "source": [
    "a.remove(20)"
   ]
  },
  {
   "cell_type": "code",
   "execution_count": 32,
   "id": "5b6da34d-d108-418a-af50-2c32e3a6b1b6",
   "metadata": {},
   "outputs": [
    {
     "data": {
      "text/plain": [
       "'<...INDEX ERROR...>'"
      ]
     },
     "execution_count": 32,
     "metadata": {},
     "output_type": "execute_result"
    }
   ],
   "source": [
    "a[-12]"
   ]
  },
  {
   "cell_type": "code",
   "execution_count": null,
   "id": "5030d85f-41ed-4ed8-a253-d161aace8c5f",
   "metadata": {},
   "outputs": [],
   "source": []
  }
 ],
 "metadata": {
  "kernelspec": {
   "display_name": "Python 3 (ipykernel)",
   "language": "python",
   "name": "python3"
  },
  "language_info": {
   "codemirror_mode": {
    "name": "ipython",
    "version": 3
   },
   "file_extension": ".py",
   "mimetype": "text/x-python",
   "name": "python",
   "nbconvert_exporter": "python",
   "pygments_lexer": "ipython3",
   "version": "3.12.5"
  }
 },
 "nbformat": 4,
 "nbformat_minor": 5
}
