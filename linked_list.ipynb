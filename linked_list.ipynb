{
 "cells": [
  {
   "cell_type": "code",
   "execution_count": null,
   "id": "eb0b5f04-07c2-4a52-bef2-da3b62bfbc03",
   "metadata": {},
   "outputs": [],
   "source": [
    "class Node:\n",
    "    def __init__(self,value):\n",
    "        self.data = value\n",
    "        self.next = None"
   ]
  },
  {
   "cell_type": "code",
   "execution_count": null,
   "id": "371ff64d-2c0f-47be-8982-54a314d00f2a",
   "metadata": {},
   "outputs": [],
   "source": [
    "class Linkedlist:\n",
    "    def __init__(self):\n",
    "        #creating a empty list \n",
    "        self.head = None\n",
    "        self.n = 0\n",
    "\n",
    "\n",
    "    def __len__(self):\n",
    "        return self.n\n",
    "\n",
    "    def insert_head(self,value):\n",
    "        # create a new node\n",
    "        new_node = Node(value)\n",
    "        # create connection \n",
    "        new_node.next = self.head\n",
    "        # reassigning \n",
    "        self.head = new_node\n",
    "        self.n = self.n + 1\n",
    "\n",
    "    def traverse(self):\n",
    "        curr = self.head\n",
    "        r=\"\"\n",
    "\n",
    "        while curr != None:\n",
    "            r = curr.data + r\n",
    "            curr = curr.next\n",
    "        return r\n",
    "    \n",
    "    def __str__(self):\n",
    "        curr = self.head\n",
    "        result = \"\"\n",
    "        while curr != None:\n",
    "            result = result + str(curr.data) + \"-->\"\n",
    "            curr =  curr.next\n",
    "            \n",
    "        return result[:-3]\n",
    "\n",
    "\n",
    "    # insert from tail \n",
    "\n",
    "    def append(self,value):\n",
    "        \n",
    "        new_node = Node(value)\n",
    "        \n",
    "        if self.head ==None:\n",
    "            #empty \n",
    "            self.head = new_node\n",
    "            self.n = self.n + 1\n",
    "            return \n",
    "            \n",
    "        curr = self.head\n",
    "        \n",
    "        while curr.next != None:\n",
    "            curr = curr.next\n",
    "        #you are at last node\n",
    "        curr.next = new_node  \n",
    "        self.n = self.n + 1\n",
    "        \n",
    "        \n",
    "    #insert from middle \n",
    "    # traverse --> after \n",
    "    # new_node.next.next --> curr.next\n",
    "    # curr.next --> new_node\n",
    "\n",
    "    def insert_after(self, after , value):\n",
    "\n",
    "        new_node = Node(value)\n",
    "\n",
    "        curr = self.head\n",
    "        while curr != None:\n",
    "            if curr.data == after:\n",
    "                break\n",
    "            curr = curr.next\n",
    "        # case 1 loop break --> means we get that item --> curr is not none\n",
    "        if curr != None:\n",
    "            #logic\n",
    "            new_node.next = curr.next\n",
    "            curr.next = new_node\n",
    "            self.n = self.n + 1\n",
    "        else:\n",
    "            return \"Item Not Found\"\n",
    "        \n",
    "        # case 2 loop will excuted completely --> means we did not get that item --> curr.next = None\n",
    "    #deletion --------------------------------------------------------------------------------------    \n",
    "    def clear(self):\n",
    "        self.head = None\n",
    "        self.n = 0\n",
    "  \n",
    "    #delete from head\n",
    "    def delete_head(self):\n",
    "        if self.head != None:\n",
    "            self.head = self.head.next\n",
    "            self.n = self.n -1\n",
    "        else:\n",
    "            return \"Linked List Is Empty\"\n",
    "            \n",
    "    # delete from tail\n",
    "    def pop(self):\n",
    "        curr = self.head\n",
    "        if curr == None:\n",
    "            return \"Empty Linked List\"\n",
    "        if curr.next == None:\n",
    "            # head is the only member\n",
    "            self.delete_head()\n",
    "            return \n",
    "        while curr.next.next != None:\n",
    "            curr = curr.next\n",
    "        # here curr --> 2nd last time\n",
    "        curr.next = None\n",
    "        self.n = self.n - 1\n",
    "    \n",
    "    #deletion from value \n",
    "    def remove(self,value):\n",
    "        curr = self.head\n",
    "        if curr == None:\n",
    "            return \"Empty Linked List\"\n",
    "        if curr.data == value:\n",
    "            self.delete_head()\n",
    "            return \n",
    "        while curr.next != None:\n",
    "            if curr.next.data == value:\n",
    "                break\n",
    "            curr = curr.next\n",
    "\n",
    "        # case 2 item mila gaya\n",
    "        # item nhi mila\n",
    "        if curr.next == None:\n",
    "            # item nhi mila\n",
    "            return \"Item Not Found\"\n",
    "        else:\n",
    "            # item mil gaya \n",
    "            curr.next = curr.next.next\n",
    "            self.n = self.n -1\n",
    "\n",
    "    # searching by value \n",
    "    def search(self, item):\n",
    "        curr = self.head\n",
    "        pos=0\n",
    "        while curr != None:\n",
    "            if curr.data == item:\n",
    "                return pos\n",
    "            curr = curr.next\n",
    "            pos = pos +1\n",
    "        return \"Item Not Found\"\n",
    "\n",
    "    # indexing \n",
    "    def __getitem__(self,index):\n",
    "        curr = self.head\n",
    "        pos=0\n",
    "        while curr != None:\n",
    "            if pos == index:\n",
    "                return curr.data\n",
    "\n",
    "            curr = curr.next\n",
    "            pos = pos + 1\n",
    "\n",
    "        return \"Index Error\"\n",
    "\n",
    "    def reverse_show(self):\n",
    "        curr = self.head\n",
    "        result = \"\"\n",
    "        while curr != None:\n",
    "            result =str(curr.data) + \"<--\" + result\n",
    "            curr =  curr.next\n",
    "            \n",
    "        return result[:-3]\n",
    "\n",
    "    def find_odd_sum(self):\n",
    "        curr = self.head\n",
    "        sum_ = 0\n",
    "        while curr !=None :\n",
    "            print(curr.data)\n",
    "            sum_ = sum_ + curr.data\n",
    "            if curr.next == None:\n",
    "                break\n",
    "            curr= curr.next.next\n",
    "        print(\"......................\")\n",
    "        print(\"sum\")\n",
    "        return sum_\n",
    "\n",
    "    def reverse(self):\n",
    "        prev_node = None\n",
    "        curr_node = self.head\n",
    "        while curr_node != None:\n",
    "            next_node = curr_node.next\n",
    "            curr_node.next = prev_node\n",
    "            prev_node = curr_node\n",
    "            curr_node = next_node\n",
    "        self.head = prev_node\n",
    "\n",
    "    def change_sent(self):\n",
    "        curr = self.head\n",
    "        while curr != None:\n",
    "            if curr.data ==\"*\" or curr.data ==\"/\":\n",
    "                curr.data = \" \"\n",
    "                if curr.next.data ==\"*\" or curr.next.data ==\"/\":\n",
    "                    curr.next.next.data = curr.next.next.data.upper()\n",
    "                    curr.next = curr.next.next\n",
    "            curr = curr.next"
   ]
  },
  {
   "cell_type": "code",
   "execution_count": null,
   "id": "ffd9ff60-ba92-4422-9cde-2a9a263d9c94",
   "metadata": {},
   "outputs": [],
   "source": [
    "a= Linkedlist()"
   ]
  },
  {
   "cell_type": "raw",
   "id": "8c5cb969-3175-490d-a560-00b2254f2be6",
   "metadata": {},
   "source": []
  },
  {
   "cell_type": "code",
   "execution_count": null,
   "id": "158a5096-7999-4bbe-86c6-34bc945485b1",
   "metadata": {},
   "outputs": [],
   "source": [
    "print(a)"
   ]
  },
  {
   "cell_type": "code",
   "execution_count": 118,
   "id": "4cf72819-62b7-41c5-ad7d-b67b8af191e0",
   "metadata": {},
   "outputs": [],
   "source": [
    "a.reverse()"
   ]
  },
  {
   "cell_type": "code",
   "execution_count": 125,
   "id": "9a2a2ae9-037b-4303-9b1f-b660f52638dd",
   "metadata": {},
   "outputs": [],
   "source": [
    "a.insert_head(10)\n",
    "a.insert_head(1000)\n",
    "a.insert_head(100)"
   ]
  },
  {
   "cell_type": "code",
   "execution_count": null,
   "id": "e1f5d4c0-3e68-453e-b292-60eb40af6d66",
   "metadata": {},
   "outputs": [],
   "source": [
    "a.traverse()"
   ]
  },
  {
   "cell_type": "code",
   "execution_count": null,
   "id": "957a5e8c-b1fb-4e60-840b-af3cc37f8a8b",
   "metadata": {},
   "outputs": [],
   "source": [
    "a.change_sent()"
   ]
  },
  {
   "cell_type": "code",
   "execution_count": 195,
   "id": "820b2483-b7c6-437f-87c8-e7d013726f0b",
   "metadata": {},
   "outputs": [],
   "source": [
    "a.insert_after(7,88888)"
   ]
  },
  {
   "cell_type": "code",
   "execution_count": 130,
   "id": "cd1e5ef6-71c1-4c16-b094-1bdb91d08111",
   "metadata": {},
   "outputs": [],
   "source": [
    "a.clear()"
   ]
  },
  {
   "cell_type": "code",
   "execution_count": 152,
   "id": "c07601f8-b264-408c-8f29-3e38157d17c2",
   "metadata": {},
   "outputs": [
    {
     "data": {
      "text/plain": [
       "'Linked List Is Empty'"
      ]
     },
     "execution_count": 152,
     "metadata": {},
     "output_type": "execute_result"
    }
   ],
   "source": [
    "a.delete_head()"
   ]
  },
  {
   "cell_type": "code",
   "execution_count": 164,
   "id": "a41dedde-f20f-44a1-be26-a1d8322837ff",
   "metadata": {},
   "outputs": [],
   "source": [
    "a.pop()"
   ]
  },
  {
   "cell_type": "code",
   "execution_count": 179,
   "id": "6a0eb73e-b642-4122-93c8-838b960e633f",
   "metadata": {},
   "outputs": [
    {
     "data": {
      "text/plain": [
       "'Item Not Found'"
      ]
     },
     "execution_count": 179,
     "metadata": {},
     "output_type": "execute_result"
    }
   ],
   "source": [
    "a.remove(10)"
   ]
  },
  {
   "cell_type": "code",
   "execution_count": 187,
   "id": "9a520dcf-2dc6-41df-9869-0e8b3d209039",
   "metadata": {},
   "outputs": [
    {
     "data": {
      "text/plain": [
       "'Item Not Found'"
      ]
     },
     "execution_count": 187,
     "metadata": {},
     "output_type": "execute_result"
    }
   ],
   "source": [
    "a.search(8)"
   ]
  },
  {
   "cell_type": "code",
   "execution_count": 188,
   "id": "441a68f9-adb7-492e-9f22-b20ea678fdbc",
   "metadata": {},
   "outputs": [
    {
     "data": {
      "text/plain": [
       "5"
      ]
     },
     "execution_count": 188,
     "metadata": {},
     "output_type": "execute_result"
    }
   ],
   "source": [
    "a.search(9)"
   ]
  },
  {
   "cell_type": "code",
   "execution_count": 196,
   "id": "d5253eb5-6512-494b-8933-f1de05966093",
   "metadata": {},
   "outputs": [
    {
     "data": {
      "text/plain": [
       "5"
      ]
     },
     "execution_count": 196,
     "metadata": {},
     "output_type": "execute_result"
    }
   ],
   "source": [
    "a[6]"
   ]
  },
  {
   "cell_type": "code",
   "execution_count": null,
   "id": "dc230c30-90c1-412a-a83e-2a6fa0e9c57d",
   "metadata": {},
   "outputs": [],
   "source": [
    "a.append(\"e\")\n",
    "a.append(\"u\")\n",
    "a.append(\"l\")\n",
    "a.append(\"b\")\n",
    "a.append(\"/\")\n",
    "a.append(\"/\")\n",
    "a.append(\"s\")\n",
    "a.append(\"i\")\n",
    "a.append(\"*\")\n",
    "a.append(\"y\")\n",
    "a.append(\"k\")\n",
    "a.append(\"s\")\n",
    "a.append(\"*\")\n",
    "a.append(\"/\")\n",
    "a.append(\"e\")\n",
    "a.append(\"h\")\n",
    "a.append(\"t\")\n",
    "\n"
   ]
  },
  {
   "cell_type": "code",
   "execution_count": null,
   "id": "e21b1e4d-1070-4f2f-883d-df21223a3ef0",
   "metadata": {},
   "outputs": [],
   "source": []
  }
 ],
 "metadata": {
  "kernelspec": {
   "display_name": "Python 3 (ipykernel)",
   "language": "python",
   "name": "python3"
  },
  "language_info": {
   "codemirror_mode": {
    "name": "ipython",
    "version": 3
   },
   "file_extension": ".py",
   "mimetype": "text/x-python",
   "name": "python",
   "nbconvert_exporter": "python",
   "pygments_lexer": "ipython3",
   "version": "3.12.5"
  }
 },
 "nbformat": 4,
 "nbformat_minor": 5
}
