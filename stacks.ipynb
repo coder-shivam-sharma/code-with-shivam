{
 "cells": [
  {
   "cell_type": "code",
   "execution_count": 92,
   "id": "19241ebd-b4de-404c-b983-6cce99b79030",
   "metadata": {},
   "outputs": [],
   "source": [
    "class Node:\n",
    "    def __init__(self,value):\n",
    "        self.data = value\n",
    "        self.next = None"
   ]
  },
  {
   "cell_type": "code",
   "execution_count": 93,
   "id": "3b148271-fb10-4d74-b6ff-28aa609a1cbc",
   "metadata": {},
   "outputs": [],
   "source": [
    "class stack:\n",
    "    def __init__(self):\n",
    "        #empty linked list\n",
    "        self.head = None\n",
    "        self.n = 0\n",
    "\n",
    "    def isempty(self):\n",
    "        return self.head == None\n",
    "        \n",
    "    def size(self):\n",
    "        return self.n\n",
    "\n",
    "    def push(self,value):\n",
    "        #new node\n",
    "        new_node = Node(value)\n",
    "        #create connections\n",
    "        new_node.next = self.head \n",
    "        # reassigning \n",
    "        self.head = new_node\n",
    "        # increment \n",
    "        self.n = self.n + 1\n",
    "\n",
    "    def __str__(self):\n",
    "        curr = self.head \n",
    "        result=\"\"\n",
    "        data=\"|\\t\\t{}\\t\\t|\\n\"\n",
    "        while curr != None:\n",
    "            result=result+data.format(curr.data) +\"|_______________________________|\\n\"\n",
    "            curr = curr.next \n",
    "        return result\n",
    "\n",
    "    def pop(self):\n",
    "        if self.isempty():\n",
    "            return \"stack is empty\"\n",
    "\n",
    "        else:\n",
    "            curr= self.head\n",
    "            if curr != None:\n",
    "                self.head = self.head.next\n",
    "                self.n = self.n - 1\n",
    "            else:\n",
    "                return \"stack is empty\"\n",
    "\n",
    "    def peek(self):\n",
    "        if self.isempty():\n",
    "            return \"stack is empty\"\n",
    "        else:\n",
    "            return self.head.data\n",
    "\n",
    "    def reverse_string(self,txt):\n",
    "        for i in txt:\n",
    "            self.push(i)\n",
    "             \n",
    "        curr = self.head\n",
    "        res=\"\"\n",
    "        while curr!= None:\n",
    "            if curr == None:\n",
    "                return \"stack is empty\"\n",
    "                break\n",
    "            res = res + str(curr.data) \n",
    "            self.n = self.n - 1\n",
    "            curr = curr.next\n",
    "        return res\n",
    "\n"
   ]
  },
  {
   "cell_type": "code",
   "execution_count": 52,
   "id": "af01bbd6-9c49-422f-a842-a71b6ac2f3b1",
   "metadata": {},
   "outputs": [],
   "source": [
    "a=stack()\n",
    "b=stack()"
   ]
  },
  {
   "cell_type": "code",
   "execution_count": 5,
   "id": "56edb05e-89eb-48f2-b7a1-78711e50ad94",
   "metadata": {},
   "outputs": [],
   "source": [
    "a.push(\"H\")\n",
    "a.push(\"E\")\n",
    "a.push(\"L\")\n",
    "a.push(\"L\")\n",
    "a.push(\"O\")\n"
   ]
  },
  {
   "cell_type": "code",
   "execution_count": 6,
   "id": "edba8e82-0b15-400e-8b2c-50730d9ece5b",
   "metadata": {},
   "outputs": [
    {
     "data": {
      "text/plain": [
       "3"
      ]
     },
     "execution_count": 6,
     "metadata": {},
     "output_type": "execute_result"
    }
   ],
   "source": [
    "a.size()"
   ]
  },
  {
   "cell_type": "code",
   "execution_count": 12,
   "id": "a2eb737b-09de-4f8a-a10f-720d8dd16bcb",
   "metadata": {},
   "outputs": [
    {
     "name": "stdout",
     "output_type": "stream",
     "text": [
      "|\t\tr\t\t|\n",
      "|_______________________________|\n",
      "|\t\te\t\t|\n",
      "|_______________________________|\n",
      "|\t\tt\t\t|\n",
      "|_______________________________|\n",
      "|\t\tu\t\t|\n",
      "|_______________________________|\n",
      "|\t\tp\t\t|\n",
      "|_______________________________|\n",
      "|\t\tm\t\t|\n",
      "|_______________________________|\n",
      "|\t\to\t\t|\n",
      "|_______________________________|\n",
      "|\t\tc\t\t|\n",
      "|_______________________________|\n",
      "\n"
     ]
    }
   ],
   "source": [
    "print(a)"
   ]
  },
  {
   "cell_type": "code",
   "execution_count": 182,
   "id": "0b91c238-6313-48c7-a47d-7f4618d585fb",
   "metadata": {},
   "outputs": [],
   "source": [
    "a.pop()"
   ]
  },
  {
   "cell_type": "code",
   "execution_count": 25,
   "id": "a9262fc3-077b-415a-9e8f-3fc70714d4eb",
   "metadata": {},
   "outputs": [
    {
     "data": {
      "text/plain": [
       "25"
      ]
     },
     "execution_count": 25,
     "metadata": {},
     "output_type": "execute_result"
    }
   ],
   "source": [
    "a.peek()"
   ]
  },
  {
   "cell_type": "code",
   "execution_count": 167,
   "id": "194766e2-3870-4add-9a5d-425307d0574b",
   "metadata": {},
   "outputs": [
    {
     "name": "stdout",
     "output_type": "stream",
     "text": [
      "__b____b__\n"
     ]
    }
   ],
   "source": [
    "a=\"__b__\"\n",
    "print(a*2)"
   ]
  },
  {
   "cell_type": "code",
   "execution_count": 13,
   "id": "e2114720-4482-4842-b707-80d9abe8cb76",
   "metadata": {},
   "outputs": [
    {
     "data": {
      "text/plain": [
       "'retupmoc'"
      ]
     },
     "execution_count": 13,
     "metadata": {},
     "output_type": "execute_result"
    }
   ],
   "source": [
    "a.reverse()"
   ]
  },
  {
   "cell_type": "code",
   "execution_count": 16,
   "id": "7227920b-3c1e-4630-b9ef-bbfcd74c2193",
   "metadata": {},
   "outputs": [
    {
     "data": {
      "text/plain": [
       "'retupmoc'"
      ]
     },
     "execution_count": 16,
     "metadata": {},
     "output_type": "execute_result"
    }
   ],
   "source": [
    "a.reverse_string(\"computer\")"
   ]
  },
  {
   "cell_type": "code",
   "execution_count": 44,
   "id": "e6c8cdb5-32bf-4731-9137-16fd22bcc8f3",
   "metadata": {},
   "outputs": [],
   "source": [
    "class notepad:\n",
    "    def notepad(self,sen,txt):\n",
    "\n",
    "        for i in txt:\n",
    "            if i == \"u\":\n",
    "                #undo from a \n",
    "                b.push(sen[-1])\n",
    "                a.pop()\n",
    "\n",
    "            elif i == \"r\":\n",
    "                #redo \n",
    "                a.push(sen[1])\n",
    "                b.pop()\n",
    "            else:\n",
    "                return \"Invalid Choice\"\n",
    "\n"
   ]
  },
  {
   "cell_type": "code",
   "execution_count": 90,
   "id": "2534396a-7cb3-4ddb-8a75-d45b76eb03c3",
   "metadata": {},
   "outputs": [],
   "source": [
    "    def text_editor(text,pattern):\n",
    "        u = stack()\n",
    "        r = stack()\n",
    "        for i in text:\n",
    "            u.push(i)\n",
    "    \n",
    "        for i in pattern:\n",
    "            if (i == \"u\"):\n",
    "                data =u.pop()\n",
    "                d1=u.pop()\n",
    "                r.push(d1)\n",
    "                #print(data)\n",
    "                #print(r)\n",
    "            else:\n",
    "                data = r.pop()\n",
    "                u.push(d1)\n",
    "            res = \"\"\n",
    "            while(not u.isempty()):                                                                                                                                                                                                                                                                                                                                                                                                                                                                                                                                                                                                                                                                                                                                                                                                                                                                                                                                                                                                                                                                                                                                                                                                                                                                                                                                                                                                                                                                                                                                                                                                                                                                                                                                                                                                                                                                                                                                                                                                                                                                                                                                                                                                                                                                                                                                                                                                                                                                                                                                                                                                                                                                                                                                                                                                                                                                                                                                                                                                                                                                                                                                                                                                                                                                                                                                                                                                                                                                                                                                                                                                                                                                                                                                                                                                                                                                                                                                                                                                                                                                                                                                                                                                                                                                                                                                                                                                                                                                                                                                                                                                                                                                                                                                                                                                                                                                                                                                                                                                                                                                                                                                                                                                                                                                                                                                                                                                                                                                                                                                                                                                                                                                                                                                                                                                                                                                                                                                                                                                                                                                                                                                                                                                                                                                                                                                                                                                                                                                                                                                                                                                                                                                                                                                                                                                                                                                                                                                                                                                                                                                                                                                                                                                                                                                                                                                                                                                                                                                                                                                                                                                                                                                                                                                                                                                                                                                                                                                                                                                                                                                                                                                                                                                                                                                                                                                                                                                                                                                                                                                                                                                                                                                                                                                                                                                                                                                                                                                                                                                                                                                                                                                                                                                                                                                                                                                                                                                                                                                                                                                                                                                                                                                                                                                                                                                                                                                                                                                                                                                                                                                                                                                                                                                                                                                                                                                                                                                                                                                                                                                                                                                                                                                                                                                                                                                                                                                                                                                                                                                                                                                                                                                                                                                                                                                                                                                                                                                                                                                                                                                                                                                                                                                                                                                                                                                                                                                                                                                                                                                                                                                                                                                                                                                                                                                                                                                                                                                                                                                                                                                                                                                                                                                                                                                                                                                                                                                                                                                                                                                                                                                                                                                                                                                                                                                                                                                                                                                                                                                                                                                                                                                                                                                                                                                                                                                                                                                                                                                                                                                                                                                                                                                                                                                                                                                                                                                                                                                                                                                                                                                                                                                                                                                                                                                                                                                                                                                                                                                                                                                                                                                                                                                                                                                                                                                                                                                                                                                                                                                                                                                                                                                                                                                                                                                                                                                                                                                                                                                                                                                                                                                                                                                                                                                                                                                                                                                                                                                                                                                                                                                                                                                                                                                                                                                                                                                                                                                                                                                                                                                                                                                   \n",
    "                res =str(u.pop()) + res\n",
    "            print(res)"
   ]
  },
  {
   "cell_type": "code",
   "execution_count": 91,
   "id": "5573e36f-9172-4bc8-bfd2-f92b074b74fa",
   "metadata": {},
   "outputs": [
    {
     "name": "stdout",
     "output_type": "stream",
     "text": [
      "NoneNoneNoneNoneNoneNone\n"
     ]
    }
   ],
   "source": [
    "text_editor(\"computer\",\"u\")"
   ]
  },
  {
   "cell_type": "code",
   "execution_count": 94,
   "id": "7111e481-80df-40cc-b00f-1cb0e398c706",
   "metadata": {},
   "outputs": [],
   "source": [
    "L=[\n",
    "    [0,0,1,1],\n",
    "    [0,0,1,0],\n",
    "    [0,0,0,0],\n",
    "    [0,0,1,0]\n",
    "]"
   ]
  },
  {
   "cell_type": "code",
   "execution_count": 99,
   "id": "c80b2ca1-cfe3-4ed9-acc1-6fbdf37a8c38",
   "metadata": {},
   "outputs": [],
   "source": [
    "def find_the_celeb(L):\n",
    "    s= stack()\n",
    "    for i in range(len(L)):\n",
    "        s.push(i)\n",
    "\n",
    "    while s.size() >=2:\n",
    "        i=s.pop()\n",
    "        j=s.pop()\n",
    "    \n",
    "    if L[i][j]==0:\n",
    "            # j is not celebrety\n",
    "        s.push(i)\n",
    "    else:\n",
    "            # i is not celebrety \n",
    "        s.push(j)\n",
    "\n",
    "    celeb = s.pop()\n",
    "    for i in range(len(L)):\n",
    "        if L[i][celeb] ==0 or L[celeb][i] ==1:\n",
    "            print(\"None is celebrity\")\n",
    "            return\n",
    "        print(\"celebrity\",celeb)"
   ]
  },
  {
   "cell_type": "code",
   "execution_count": 100,
   "id": "4167ead2-e6ac-4780-9b96-4f01762a6660",
   "metadata": {},
   "outputs": [
    {
     "ename": "TypeError",
     "evalue": "list indices must be integers or slices, not NoneType",
     "output_type": "error",
     "traceback": [
      "\u001b[1;31m---------------------------------------------------------------------------\u001b[0m",
      "\u001b[1;31mTypeError\u001b[0m                                 Traceback (most recent call last)",
      "Cell \u001b[1;32mIn[100], line 1\u001b[0m\n\u001b[1;32m----> 1\u001b[0m \u001b[43mfind_the_celeb\u001b[49m\u001b[43m(\u001b[49m\u001b[43mL\u001b[49m\u001b[43m)\u001b[49m\n",
      "Cell \u001b[1;32mIn[99], line 9\u001b[0m, in \u001b[0;36mfind_the_celeb\u001b[1;34m(L)\u001b[0m\n\u001b[0;32m      7\u001b[0m     i\u001b[38;5;241m=\u001b[39ms\u001b[38;5;241m.\u001b[39mpop()\n\u001b[0;32m      8\u001b[0m     j\u001b[38;5;241m=\u001b[39ms\u001b[38;5;241m.\u001b[39mpop()\n\u001b[1;32m----> 9\u001b[0m \u001b[38;5;28;01mif\u001b[39;00m \u001b[43mL\u001b[49m\u001b[43m[\u001b[49m\u001b[43mi\u001b[49m\u001b[43m]\u001b[49m[j]\u001b[38;5;241m==\u001b[39m\u001b[38;5;241m0\u001b[39m:\n\u001b[0;32m     10\u001b[0m         \u001b[38;5;66;03m# j is not celebrety\u001b[39;00m\n\u001b[0;32m     11\u001b[0m     s\u001b[38;5;241m.\u001b[39mpush(i)\n\u001b[0;32m     12\u001b[0m \u001b[38;5;28;01melse\u001b[39;00m:\n\u001b[0;32m     13\u001b[0m         \u001b[38;5;66;03m# i is not celebrety \u001b[39;00m\n",
      "\u001b[1;31mTypeError\u001b[0m: list indices must be integers or slices, not NoneType"
     ]
    }
   ],
   "source": [
    "find_the_celeb(L)"
   ]
  },
  {
   "cell_type": "code",
   "execution_count": null,
   "id": "fc4b9e58-fbce-4998-b01c-5a3efef83db5",
   "metadata": {},
   "outputs": [],
   "source": []
  }
 ],
 "metadata": {
  "kernelspec": {
   "display_name": "Python 3 (ipykernel)",
   "language": "python",
   "name": "python3"
  },
  "language_info": {
   "codemirror_mode": {
    "name": "ipython",
    "version": 3
   },
   "file_extension": ".py",
   "mimetype": "text/x-python",
   "name": "python",
   "nbconvert_exporter": "python",
   "pygments_lexer": "ipython3",
   "version": "3.12.5"
  }
 },
 "nbformat": 4,
 "nbformat_minor": 5
}
